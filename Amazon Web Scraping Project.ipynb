{
 "cells": [
  {
   "cell_type": "markdown",
   "id": "11408316-d105-4e1d-b8b6-dce96dda4f96",
   "metadata": {},
   "source": [
    "# Amazon Web Scraping Project"
   ]
  },
  {
   "cell_type": "code",
   "execution_count": 1,
   "id": "86a4fe58-adf1-4435-9511-56406d8b5eed",
   "metadata": {},
   "outputs": [],
   "source": [
    "# import libraries\n",
    "\n",
    "from bs4 import BeautifulSoup\n",
    "import requests\n",
    "import time\n",
    "import datetime\n",
    "\n",
    "import smtplib"
   ]
  },
  {
   "cell_type": "code",
   "execution_count": 23,
   "id": "b9721c35-bc03-49d0-80dd-a6cd2282ef6d",
   "metadata": {},
   "outputs": [
    {
     "name": "stdout",
     "output_type": "stream",
     "text": [
      "\n",
      "             Data Analysis in Microsoft Excel: Deliver Awesome Analytics in 3 Easy Steps Using VLOOKUPS, Pivot Tables, Charts And More\n",
      "            \n",
      "\n",
      "                            $14.24\n",
      "                           \n"
     ]
    }
   ],
   "source": [
    "URL = \"https://www.amazon.com/Data-Analysis-Microsoft-Excel-Analytics/dp/B0CCCPKTTX/ref=sr_1_1?dib=eyJ2IjoiMSJ9.PHGmq3z_OAWZoAh1woafmlQQxyK5zzXCEttgCRC9Mq5qqNJ5x6yBKFCeX7lP9MFHOp7WFrWdYFcTPyGUrovg2sW2-MkH-5qkBy-wr5T3fw-p6DBpLv66vzifKUAtANibrQiS9M6y24Mv9bQeb_gKgFW_fi0Xpl3kcJm6BKce-MABpH2cyswF5ZEUvyWfAXPjRXxjMzPgbfa-hY_3nbG5Q5Li6nvJZE6_YVjDZpCynJ0.GZo9sBJI9tAHepWC9ex7V7LDJH_HJcX66Y1CISQOZiY&dib_tag=se&keywords=Data-Analysis-Microsoft-Excel-Analytics&qid=1712512728&sr=8-1\"\n",
    "\n",
    "headers =  {\"User-Agent\": \"Mozilla/5.0 (Windows NT 10.0; Win64; x64) AppleWebKit/537.36 (KHTML, like Gecko) Chrome/123.0.0.0 Safari/537.36\", \"Accept-Encoding\":\"gzip, deflate\", \"Accept\":\"text/html,application/xhtml+xml,application/xml;q=0.9,*/*;q=0.8\", \"DNT\":\"1\",\"Connection\":\"close\", \"Upgrade-Insecure-Requests\":\"1\"}\n",
    "\n",
    "page = requests.get(URL, headers=headers)\n",
    "\n",
    "soup1 = BeautifulSoup(page.content, \"html.parser\")\n",
    "\n",
    "soup2 = BeautifulSoup(soup1.prettify(), \"html.parser\")\n",
    "\n",
    "#print(soup2)\n",
    "\n",
    "title = soup2.find(id='productTitle').get_text()\n",
    "\n",
    "price = soup2.find(id='price').get_text()\n",
    "\n",
    "print(title)\n",
    "\n",
    "print(price)\n",
    "\n"
   ]
  },
  {
   "cell_type": "code",
   "execution_count": 30,
   "id": "0701f185-b03a-420d-9bd2-bdab8d7804c3",
   "metadata": {},
   "outputs": [
    {
     "name": "stdout",
     "output_type": "stream",
     "text": [
      "Data Analysis in Microsoft Excel: Deliver Awesome Analytics in 3 Easy Steps Using VLOOKUPS, Pivot Tables, Charts And More\n",
      "14.24\n"
     ]
    }
   ],
   "source": [
    "price = price.strip()[1:]\n",
    "title = title.strip()\n",
    "\n",
    "print(title)\n",
    "print(price)"
   ]
  },
  {
   "cell_type": "code",
   "execution_count": 34,
   "id": "b1cc3ddb-6264-4d86-a584-9164f77aec24",
   "metadata": {},
   "outputs": [
    {
     "name": "stdout",
     "output_type": "stream",
     "text": [
      "2024-04-07\n"
     ]
    }
   ],
   "source": [
    "import datetime\n",
    "today = datetime.date.today()\n",
    "print(today)"
   ]
  },
  {
   "cell_type": "code",
   "execution_count": 55,
   "id": "1af67ed0-b361-4f94-aa2f-3b126cc5101a",
   "metadata": {},
   "outputs": [],
   "source": [
    "import csv\n",
    "\n",
    "header = ['Product', 'Price', 'Date']\n",
    "data = [title, price, today]\n",
    "\n",
    "#with open('AmazonWebScraperDataset.csv', 'w', newline='', encoding='UTF8') as f:\n",
    "    writer = csv.writer(f)\n",
    "    writer.writerow(header)\n",
    "    writer.writerow(data)\n",
    "\n"
   ]
  },
  {
   "cell_type": "code",
   "execution_count": 60,
   "id": "902c01d9-1d01-4464-b72d-23df1b55c145",
   "metadata": {},
   "outputs": [
    {
     "name": "stdout",
     "output_type": "stream",
     "text": [
      "                                             Product  Price        Date\n",
      "0  Data Analysis in Microsoft Excel: Deliver Awes...  14.24  2024-04-07\n",
      "1  Data Analysis in Microsoft Excel: Deliver Awes...  14.24  2024-04-07\n",
      "2  Data Analysis in Microsoft Excel: Deliver Awes...  14.24  2024-04-07\n"
     ]
    }
   ],
   "source": [
    "import pandas as pd\n",
    "\n",
    "df = pd.read_csv(r'C:\\Users\\Jamal\\AmazonWebScraperDataset.csv')\n",
    "\n",
    "print(df)\n"
   ]
  },
  {
   "cell_type": "code",
   "execution_count": 59,
   "id": "f2c76fd3-4f3b-4cc1-845f-d69a742e5dbc",
   "metadata": {},
   "outputs": [],
   "source": [
    "#Now we are appending the data to the csv\n",
    "\n",
    "with open('AmazonWebScraperDataset.csv', 'a+', newline='', encoding='UTF8') as f:\n",
    "    writer = csv.writer(f)\n",
    "    writer.writerow(data)"
   ]
  },
  {
   "cell_type": "code",
   "execution_count": 61,
   "id": "6d087edb-27f5-4594-ba52-ec8ee38fb60e",
   "metadata": {},
   "outputs": [],
   "source": [
    "def check_price():\n",
    "    URL = \"https://www.amazon.com/Data-Analysis-Microsoft-Excel-Analytics/dp/B0CCCPKTTX/ref=sr_1_1?dib=eyJ2IjoiMSJ9.PHGmq3z_OAWZoAh1woafmlQQxyK5zzXCEttgCRC9Mq5qqNJ5x6yBKFCeX7lP9MFHOp7WFrWdYFcTPyGUrovg2sW2-MkH-5qkBy-wr5T3fw-p6DBpLv66vzifKUAtANibrQiS9M6y24Mv9bQeb_gKgFW_fi0Xpl3kcJm6BKce-MABpH2cyswF5ZEUvyWfAXPjRXxjMzPgbfa-hY_3nbG5Q5Li6nvJZE6_YVjDZpCynJ0.GZo9sBJI9tAHepWC9ex7V7LDJH_HJcX66Y1CISQOZiY&dib_tag=se&keywords=Data-Analysis-Microsoft-Excel-Analytics&qid=1712512728&sr=8-1\"\n",
    "    \n",
    "    headers =  {\"User-Agent\": \"Mozilla/5.0 (Windows NT 10.0; Win64; x64) AppleWebKit/537.36 (KHTML, like Gecko) Chrome/123.0.0.0 Safari/537.36\", \"Accept-Encoding\":\"gzip, deflate\", \"Accept\":\"text/html,application/xhtml+xml,application/xml;q=0.9,*/*;q=0.8\", \"DNT\":\"1\",\"Connection\":\"close\", \"Upgrade-Insecure-Requests\":\"1\"}\n",
    "\n",
    "    page = requests.get(URL, headers=headers)\n",
    "\n",
    "    soup1 = BeautifulSoup(page.content, \"html.parser\")\n",
    "    \n",
    "    soup2 = BeautifulSoup(soup1.prettify(), \"html.parser\")\n",
    "\n",
    "    title = soup2.find(id='productTitle').get_text()\n",
    "\n",
    "    price = soup2.find(id='price').get_text()\n",
    "    \n",
    "    price = price.strip()[1:]\n",
    "    title = title.strip()\n",
    "    \n",
    "    import datetime\n",
    "    today = datetime.date.today()\n",
    "    print(today)\n",
    "    \n",
    "    import csv\n",
    "    header = ['Product', 'Price', 'Date']\n",
    "    data = [title, price, today]\n",
    "    \n",
    "    with open('AmazonWebScraperDataset.csv', 'a+', newline='', encoding='UTF8') as f:\n",
    "        writer = csv.writer(f)\n",
    "        writer.writerow(data)\n"
   ]
  },
  {
   "cell_type": "code",
   "execution_count": null,
   "id": "fca8c6fe-cf5f-4856-9661-100f1b3e99cd",
   "metadata": {},
   "outputs": [
    {
     "name": "stdout",
     "output_type": "stream",
     "text": [
      "2024-04-07\n"
     ]
    }
   ],
   "source": [
    "while(True):\n",
    "    check_price()\n",
    "    time.sleep(86400)"
   ]
  },
  {
   "cell_type": "code",
   "execution_count": 64,
   "id": "b7086c00-c9bb-4f48-8db9-5dcad79cb55f",
   "metadata": {},
   "outputs": [
    {
     "name": "stdout",
     "output_type": "stream",
     "text": [
      "                                             Product  Price        Date\n",
      "0  Data Analysis in Microsoft Excel: Deliver Awes...  14.24  2024-04-07\n",
      "1  Data Analysis in Microsoft Excel: Deliver Awes...  14.24  2024-04-07\n",
      "2  Data Analysis in Microsoft Excel: Deliver Awes...  14.24  2024-04-07\n",
      "3  Data Analysis in Microsoft Excel: Deliver Awes...  14.24  2024-04-07\n",
      "4  Data Analysis in Microsoft Excel: Deliver Awes...  14.24  2024-04-07\n",
      "5  Data Analysis in Microsoft Excel: Deliver Awes...  14.24  2024-04-07\n"
     ]
    }
   ],
   "source": [
    "import pandas as pd\n",
    "\n",
    "df = pd.read_csv(r'C:\\Users\\Jamal\\AmazonWebScraperDataset.csv')\n",
    "\n",
    "print(df)"
   ]
  },
  {
   "cell_type": "code",
   "execution_count": null,
   "id": "862bb43b-b755-4e87-a841-f30db7917a56",
   "metadata": {},
   "outputs": [],
   "source": []
  }
 ],
 "metadata": {
  "kernelspec": {
   "display_name": "Python 3 (ipykernel)",
   "language": "python",
   "name": "python3"
  },
  "language_info": {
   "codemirror_mode": {
    "name": "ipython",
    "version": 3
   },
   "file_extension": ".py",
   "mimetype": "text/x-python",
   "name": "python",
   "nbconvert_exporter": "python",
   "pygments_lexer": "ipython3",
   "version": "3.11.7"
  }
 },
 "nbformat": 4,
 "nbformat_minor": 5
}
